{
 "cells": [
  {
   "cell_type": "markdown",
   "id": "c914d392",
   "metadata": {},
   "source": [
    "## GOLD PRICE PREDICTION USING RANDOM FOREST REGRESSOR\n",
    "\n",
    "#### Data Overview: \n",
    "The data file is a Comma separated value file format with 2290 rows and 7 columns. It contains 5 columns which are numerical in datatype and one column in Date format. Clearly the data shows value of the variables SPX,GLD,USO,SLV,EUR/USD against the dates in the date column.\n",
    "\n",
    "#### Model Building and Training: \n",
    "* This is a Regression dataset. We are building a model using Random Forest Regressor. \n",
    "* Model is first trained using training data \n",
    "* The model is further tested with sample test data and it will predict gold price for that specific value\n"
   ]
  },
  {
   "cell_type": "code",
   "execution_count": 2,
   "id": "bad0bb85",
   "metadata": {},
   "outputs": [],
   "source": [
    "#IMPORTING THE LIBRARIES\n",
    "import numpy as np\n",
    "import pandas as pd\n",
    "import matplotlib.pyplot as plt\n",
    "import seaborn as sns\n",
    "from sklearn.model_selection import train_test_split\n",
    "from sklearn.ensemble import RandomForestRegressor\n",
    "from sklearn import metrics"
   ]
  },
  {
   "cell_type": "code",
   "execution_count": 3,
   "id": "a9eb92c6",
   "metadata": {},
   "outputs": [],
   "source": [
    "#Data collection and processing\n",
    "gold_data = pd.read_csv(r\"C:\\Nirzari\\Project\\Regression\\reg dataset\\gold price prediction\\gld_price_data.csv\")"
   ]
  },
  {
   "cell_type": "code",
   "execution_count": 4,
   "id": "a6db7ef1",
   "metadata": {},
   "outputs": [
    {
     "data": {
      "text/html": [
       "<div>\n",
       "<style scoped>\n",
       "    .dataframe tbody tr th:only-of-type {\n",
       "        vertical-align: middle;\n",
       "    }\n",
       "\n",
       "    .dataframe tbody tr th {\n",
       "        vertical-align: top;\n",
       "    }\n",
       "\n",
       "    .dataframe thead th {\n",
       "        text-align: right;\n",
       "    }\n",
       "</style>\n",
       "<table border=\"1\" class=\"dataframe\">\n",
       "  <thead>\n",
       "    <tr style=\"text-align: right;\">\n",
       "      <th></th>\n",
       "      <th>Date</th>\n",
       "      <th>SPX</th>\n",
       "      <th>GLD</th>\n",
       "      <th>USO</th>\n",
       "      <th>SLV</th>\n",
       "      <th>EUR/USD</th>\n",
       "    </tr>\n",
       "  </thead>\n",
       "  <tbody>\n",
       "    <tr>\n",
       "      <th>0</th>\n",
       "      <td>1/2/2008</td>\n",
       "      <td>1447.160034</td>\n",
       "      <td>84.860001</td>\n",
       "      <td>78.470001</td>\n",
       "      <td>15.180</td>\n",
       "      <td>1.471692</td>\n",
       "    </tr>\n",
       "    <tr>\n",
       "      <th>1</th>\n",
       "      <td>1/3/2008</td>\n",
       "      <td>1447.160034</td>\n",
       "      <td>85.570000</td>\n",
       "      <td>78.370003</td>\n",
       "      <td>15.285</td>\n",
       "      <td>1.474491</td>\n",
       "    </tr>\n",
       "    <tr>\n",
       "      <th>2</th>\n",
       "      <td>1/4/2008</td>\n",
       "      <td>1411.630005</td>\n",
       "      <td>85.129997</td>\n",
       "      <td>77.309998</td>\n",
       "      <td>15.167</td>\n",
       "      <td>1.475492</td>\n",
       "    </tr>\n",
       "    <tr>\n",
       "      <th>3</th>\n",
       "      <td>1/7/2008</td>\n",
       "      <td>1416.180054</td>\n",
       "      <td>84.769997</td>\n",
       "      <td>75.500000</td>\n",
       "      <td>15.053</td>\n",
       "      <td>1.468299</td>\n",
       "    </tr>\n",
       "    <tr>\n",
       "      <th>4</th>\n",
       "      <td>1/8/2008</td>\n",
       "      <td>1390.189941</td>\n",
       "      <td>86.779999</td>\n",
       "      <td>76.059998</td>\n",
       "      <td>15.590</td>\n",
       "      <td>1.557099</td>\n",
       "    </tr>\n",
       "  </tbody>\n",
       "</table>\n",
       "</div>"
      ],
      "text/plain": [
       "       Date          SPX        GLD        USO     SLV   EUR/USD\n",
       "0  1/2/2008  1447.160034  84.860001  78.470001  15.180  1.471692\n",
       "1  1/3/2008  1447.160034  85.570000  78.370003  15.285  1.474491\n",
       "2  1/4/2008  1411.630005  85.129997  77.309998  15.167  1.475492\n",
       "3  1/7/2008  1416.180054  84.769997  75.500000  15.053  1.468299\n",
       "4  1/8/2008  1390.189941  86.779999  76.059998  15.590  1.557099"
      ]
     },
     "execution_count": 4,
     "metadata": {},
     "output_type": "execute_result"
    }
   ],
   "source": [
    "#print 1st 5 rows of data frame\n",
    "gold_data.head()"
   ]
  },
  {
   "cell_type": "code",
   "execution_count": 5,
   "id": "4ac9e263",
   "metadata": {},
   "outputs": [
    {
     "data": {
      "text/plain": [
       "(2290, 6)"
      ]
     },
     "execution_count": 5,
     "metadata": {},
     "output_type": "execute_result"
    }
   ],
   "source": [
    "#number of rows and columns\n",
    "gold_data.shape"
   ]
  },
  {
   "cell_type": "code",
   "execution_count": 6,
   "id": "5dca6cb0",
   "metadata": {},
   "outputs": [
    {
     "name": "stdout",
     "output_type": "stream",
     "text": [
      "<class 'pandas.core.frame.DataFrame'>\n",
      "RangeIndex: 2290 entries, 0 to 2289\n",
      "Data columns (total 6 columns):\n",
      " #   Column   Non-Null Count  Dtype  \n",
      "---  ------   --------------  -----  \n",
      " 0   Date     2290 non-null   object \n",
      " 1   SPX      2290 non-null   float64\n",
      " 2   GLD      2290 non-null   float64\n",
      " 3   USO      2290 non-null   float64\n",
      " 4   SLV      2290 non-null   float64\n",
      " 5   EUR/USD  2290 non-null   float64\n",
      "dtypes: float64(5), object(1)\n",
      "memory usage: 107.5+ KB\n"
     ]
    }
   ],
   "source": [
    "#getting some info about the data\n",
    "gold_data.info()"
   ]
  },
  {
   "cell_type": "code",
   "execution_count": 7,
   "id": "4686b0cb",
   "metadata": {},
   "outputs": [
    {
     "data": {
      "text/html": [
       "<div>\n",
       "<style scoped>\n",
       "    .dataframe tbody tr th:only-of-type {\n",
       "        vertical-align: middle;\n",
       "    }\n",
       "\n",
       "    .dataframe tbody tr th {\n",
       "        vertical-align: top;\n",
       "    }\n",
       "\n",
       "    .dataframe thead th {\n",
       "        text-align: right;\n",
       "    }\n",
       "</style>\n",
       "<table border=\"1\" class=\"dataframe\">\n",
       "  <thead>\n",
       "    <tr style=\"text-align: right;\">\n",
       "      <th></th>\n",
       "      <th>SPX</th>\n",
       "      <th>GLD</th>\n",
       "      <th>USO</th>\n",
       "      <th>SLV</th>\n",
       "      <th>EUR/USD</th>\n",
       "    </tr>\n",
       "  </thead>\n",
       "  <tbody>\n",
       "    <tr>\n",
       "      <th>count</th>\n",
       "      <td>2290.000000</td>\n",
       "      <td>2290.000000</td>\n",
       "      <td>2290.000000</td>\n",
       "      <td>2290.000000</td>\n",
       "      <td>2290.000000</td>\n",
       "    </tr>\n",
       "    <tr>\n",
       "      <th>mean</th>\n",
       "      <td>1654.315776</td>\n",
       "      <td>122.732875</td>\n",
       "      <td>31.842221</td>\n",
       "      <td>20.084997</td>\n",
       "      <td>1.283653</td>\n",
       "    </tr>\n",
       "    <tr>\n",
       "      <th>std</th>\n",
       "      <td>519.111540</td>\n",
       "      <td>23.283346</td>\n",
       "      <td>19.523517</td>\n",
       "      <td>7.092566</td>\n",
       "      <td>0.131547</td>\n",
       "    </tr>\n",
       "    <tr>\n",
       "      <th>min</th>\n",
       "      <td>676.530029</td>\n",
       "      <td>70.000000</td>\n",
       "      <td>7.960000</td>\n",
       "      <td>8.850000</td>\n",
       "      <td>1.039047</td>\n",
       "    </tr>\n",
       "    <tr>\n",
       "      <th>25%</th>\n",
       "      <td>1239.874969</td>\n",
       "      <td>109.725000</td>\n",
       "      <td>14.380000</td>\n",
       "      <td>15.570000</td>\n",
       "      <td>1.171313</td>\n",
       "    </tr>\n",
       "    <tr>\n",
       "      <th>50%</th>\n",
       "      <td>1551.434998</td>\n",
       "      <td>120.580002</td>\n",
       "      <td>33.869999</td>\n",
       "      <td>17.268500</td>\n",
       "      <td>1.303297</td>\n",
       "    </tr>\n",
       "    <tr>\n",
       "      <th>75%</th>\n",
       "      <td>2073.010070</td>\n",
       "      <td>132.840004</td>\n",
       "      <td>37.827501</td>\n",
       "      <td>22.882500</td>\n",
       "      <td>1.369971</td>\n",
       "    </tr>\n",
       "    <tr>\n",
       "      <th>max</th>\n",
       "      <td>2872.870117</td>\n",
       "      <td>184.589996</td>\n",
       "      <td>117.480003</td>\n",
       "      <td>47.259998</td>\n",
       "      <td>1.598798</td>\n",
       "    </tr>\n",
       "  </tbody>\n",
       "</table>\n",
       "</div>"
      ],
      "text/plain": [
       "               SPX          GLD          USO          SLV      EUR/USD\n",
       "count  2290.000000  2290.000000  2290.000000  2290.000000  2290.000000\n",
       "mean   1654.315776   122.732875    31.842221    20.084997     1.283653\n",
       "std     519.111540    23.283346    19.523517     7.092566     0.131547\n",
       "min     676.530029    70.000000     7.960000     8.850000     1.039047\n",
       "25%    1239.874969   109.725000    14.380000    15.570000     1.171313\n",
       "50%    1551.434998   120.580002    33.869999    17.268500     1.303297\n",
       "75%    2073.010070   132.840004    37.827501    22.882500     1.369971\n",
       "max    2872.870117   184.589996   117.480003    47.259998     1.598798"
      ]
     },
     "execution_count": 7,
     "metadata": {},
     "output_type": "execute_result"
    }
   ],
   "source": [
    "gold_data.describe()"
   ]
  },
  {
   "cell_type": "code",
   "execution_count": 8,
   "id": "1520963f",
   "metadata": {},
   "outputs": [],
   "source": [
    "#correlation\n",
    "#positive correlation\n",
    "#negative correlation\n",
    "correlation = gold_data.corr()"
   ]
  },
  {
   "cell_type": "markdown",
   "id": "daaf72f6",
   "metadata": {},
   "source": [
    "### Heatmap to understand correlation"
   ]
  },
  {
   "cell_type": "code",
   "execution_count": 9,
   "id": "980b0eb2",
   "metadata": {},
   "outputs": [
    {
     "data": {
      "text/plain": [
       "<AxesSubplot:>"
      ]
     },
     "execution_count": 9,
     "metadata": {},
     "output_type": "execute_result"
    },
    {
     "data": {
      "image/png": "[encoded data removed]",
      "text/plain": [
       "<Figure size 576x576 with 2 Axes>"
      ]
     },
     "metadata": {
      "needs_background": "light"
     },
     "output_type": "display_data"
    }
   ],
   "source": [
    "#constructing a heatmap to understand correlation\n",
    "plt.figure(figsize = (8,8))\n",
    "sns.heatmap(correlation,cbar=True, square=True, fmt='.1f',annot=True, annot_kws={'size':8}, cmap='Blues')"
   ]
  },
  {
   "cell_type": "code",
   "execution_count": 10,
   "id": "b2f852f5",
   "metadata": {},
   "outputs": [
    {
     "name": "stdout",
     "output_type": "stream",
     "text": [
      "SPX        0.049345\n",
      "GLD        1.000000\n",
      "USO       -0.186360\n",
      "SLV        0.866632\n",
      "EUR/USD   -0.024375\n",
      "Name: GLD, dtype: float64\n"
     ]
    }
   ],
   "source": [
    " #correlation value of GLD\n",
    "print(correlation['GLD'])"
   ]
  },
  {
   "cell_type": "markdown",
   "id": "cd0231a6",
   "metadata": {},
   "source": [
    "#### CHECKING THE DISTRIBUTION OF THE GOLD PRICE"
   ]
  },
  {
   "cell_type": "code",
   "execution_count": 11,
   "id": "6558a7f0",
   "metadata": {},
   "outputs": [
    {
     "name": "stderr",
     "output_type": "stream",
     "text": [
      "C:\\Users\\tanma\\anaconda3\\lib\\site-packages\\seaborn\\distributions.py:2557: FutureWarning: `distplot` is a deprecated function and will be removed in a future version. Please adapt your code to use either `displot` (a figure-level function with similar flexibility) or `histplot` (an axes-level function for histograms).\n",
      "  warnings.warn(msg, FutureWarning)\n"
     ]
    },
    {
     "data": {
      "text/plain": [
       "<AxesSubplot:xlabel='GLD', ylabel='Density'>"
      ]
     },
     "execution_count": 11,
     "metadata": {},
     "output_type": "execute_result"
    },
    {
     "data": {
      "image/png": "[encoded data removed]",
      "text/plain": [
       "<Figure size 432x288 with 1 Axes>"
      ]
     },
     "metadata": {
      "needs_background": "light"
     },
     "output_type": "display_data"
    }
   ],
   "source": [
    "sns.distplot(gold_data['GLD'],color='green')"
   ]
  },
  {
   "cell_type": "code",
   "execution_count": 12,
   "id": "9b531af7",
   "metadata": {},
   "outputs": [],
   "source": [
    "#splitting the features and the target\n",
    "X = gold_data.drop(['Date','GLD'],axis=1)\n",
    "Y = gold_data['GLD']"
   ]
  },
  {
   "cell_type": "code",
   "execution_count": 13,
   "id": "2add8ef4",
   "metadata": {},
   "outputs": [
    {
     "name": "stdout",
     "output_type": "stream",
     "text": [
      "              SPX        USO      SLV   EUR/USD\n",
      "0     1447.160034  78.470001  15.1800  1.471692\n",
      "1     1447.160034  78.370003  15.2850  1.474491\n",
      "2     1411.630005  77.309998  15.1670  1.475492\n",
      "3     1416.180054  75.500000  15.0530  1.468299\n",
      "4     1390.189941  76.059998  15.5900  1.557099\n",
      "...           ...        ...      ...       ...\n",
      "2285  2671.919922  14.060000  15.5100  1.186789\n",
      "2286  2697.790039  14.370000  15.5300  1.184722\n",
      "2287  2723.070068  14.410000  15.7400  1.191753\n",
      "2288  2730.129883  14.380000  15.5600  1.193118\n",
      "2289  2725.780029  14.405800  15.4542  1.182033\n",
      "\n",
      "[2290 rows x 4 columns]\n"
     ]
    }
   ],
   "source": [
    "print(X)"
   ]
  },
  {
   "cell_type": "code",
   "execution_count": 14,
   "id": "1929600e",
   "metadata": {},
   "outputs": [
    {
     "name": "stdout",
     "output_type": "stream",
     "text": [
      "0        84.860001\n",
      "1        85.570000\n",
      "2        85.129997\n",
      "3        84.769997\n",
      "4        86.779999\n",
      "           ...    \n",
      "2285    124.589996\n",
      "2286    124.330002\n",
      "2287    125.180000\n",
      "2288    124.489998\n",
      "2289    122.543800\n",
      "Name: GLD, Length: 2290, dtype: float64\n"
     ]
    }
   ],
   "source": [
    "print(Y)"
   ]
  },
  {
   "cell_type": "code",
   "execution_count": 15,
   "id": "37647331",
   "metadata": {},
   "outputs": [],
   "source": [
    "#SPLITTING THE TRAINING AND TESTING DATA\n",
    "X_train, X_test, Y_train, Y_test = train_test_split(X, Y, test_size = 0.2,random_state=2)"
   ]
  },
  {
   "cell_type": "code",
   "execution_count": 16,
   "id": "3648d395",
   "metadata": {},
   "outputs": [],
   "source": [
    "#MODEL TRAINING :RANDOM FOREST REGRESSOR\n",
    "regressor = RandomForestRegressor(n_estimators=100)"
   ]
  },
  {
   "cell_type": "code",
   "execution_count": 17,
   "id": "1b5daa1e",
   "metadata": {},
   "outputs": [
    {
     "data": {
      "text/plain": [
       "RandomForestRegressor()"
      ]
     },
     "execution_count": 17,
     "metadata": {},
     "output_type": "execute_result"
    }
   ],
   "source": [
    "#training the model\n",
    "regressor.fit(X_train,Y_train)"
   ]
  },
  {
   "cell_type": "markdown",
   "id": "958f09cf",
   "metadata": {},
   "source": [
    "### MODEL EVALUATION"
   ]
  },
  {
   "cell_type": "code",
   "execution_count": 18,
   "id": "88ad996b",
   "metadata": {},
   "outputs": [],
   "source": [
    "#PREDICTION ON TEST DATA\n",
    "test_data_prediction = regressor.predict(X_test)"
   ]
  },
  {
   "cell_type": "code",
   "execution_count": 19,
   "id": "b8392a4f",
   "metadata": {},
   "outputs": [
    {
     "name": "stdout",
     "output_type": "stream",
     "text": [
      "[168.54969942  82.01049985 115.7087997  127.64650064 120.47390152\n",
      " 154.62669736 150.17979865 126.1864003  117.42079899 126.13360026\n",
      " 116.65190115 171.68910081 141.34409915 167.78009868 115.14909997\n",
      " 117.7085007  138.36430299 170.02450052 159.1233023  157.76880009\n",
      " 155.13140056 125.36510005 176.59489907 157.2458037  125.21710047\n",
      "  93.77449972  77.12349993 120.43079976 119.07009932 167.38619996\n",
      "  88.12720054 125.21659977  91.15660084 117.78789996 121.23229904\n",
      " 135.99530056 115.43280129 115.52220109 148.53470008 107.3262007\n",
      " 104.5605026   87.15249773 126.52010075 117.87819989 153.58809895\n",
      " 119.53400018 108.34229979 107.92679801  93.12030037 127.03249821\n",
      "  74.93590019 113.68269934 121.35889994 111.20549864 118.92779925\n",
      " 120.57919981 159.7114001  166.085901   147.06289653  85.91049858\n",
      "  94.44710048  86.78369884  90.65570035 119.00290061 126.45120116\n",
      " 127.47270033 169.24109994 122.26779947 117.53049898  98.45690012\n",
      " 168.11880073 142.89089787 131.90980204 121.21430221 121.38789929\n",
      " 119.85580044 114.38160157 118.3542003  107.16100103 127.87340042\n",
      " 113.96959987 106.92959988 116.75170054 119.53659853  89.06870075\n",
      "  88.26089886 146.67530259 127.16020014 113.3367005  109.89189834\n",
      " 108.07809907  77.19609905 169.13400191 114.17859929 121.62949915\n",
      " 127.92920216 154.77529757  91.635099   135.74520133 158.79270333\n",
      " 125.00400024 125.38560057 130.59690172 114.82280112 119.82620004\n",
      "  92.20630003 110.47319871 166.31999917 157.72129839 114.34899958\n",
      " 106.65010123  79.43179979 113.11500023 125.8102009  107.21969956\n",
      " 119.49000108 155.70800337 159.92159875 119.9372999  133.69090267\n",
      " 101.46079983 117.63259794 119.22330028 112.82920065 102.76299926\n",
      " 160.41719755  99.00590023 149.22669977 125.64450096 170.07139897\n",
      " 125.8075993  127.34049775 127.43390106 113.60839946 112.87180066\n",
      " 123.48509899 102.26419896  89.26419989 124.57459936 101.28899929\n",
      " 106.97199933 113.38980047 117.44260075  99.37259946 121.51850033\n",
      " 163.44259938  87.48819873 106.67579977 117.27870058 127.70710118\n",
      " 123.96000064  80.62729933 120.4432005  157.45999833  87.98079931\n",
      " 110.31049903 118.84769917 172.37829859 102.99469926 105.42470057\n",
      " 122.31440025 157.96639783  87.62979809  93.39370035 112.75630013\n",
      " 177.49879903 114.42679963 119.26260047  94.3998009  125.68790045\n",
      " 166.3597018  114.78850062 117.04260099  88.25869866 148.6979005\n",
      " 120.43739977  89.46729956 112.03660052 117.40820037 118.73700122\n",
      "  88.03549928  94.00249998 117.05040011 118.54170184 120.45490018\n",
      " 126.78109827 121.90429962 151.03319988 164.5326007  118.5911996\n",
      " 120.29440173 150.69810045 118.46089902 172.55979879 105.59669923\n",
      " 105.09710127 149.70410075 114.12760031 124.98220108 147.52250049\n",
      " 119.6172012  115.33330049 112.06180028 113.69210195 140.61530141\n",
      " 117.86829769 102.87220017 115.82360128 103.95880213  98.88210019\n",
      " 117.18040054  90.62670006  91.4493006  153.52519856 102.75929991\n",
      " 154.75410105 114.36270173 138.41200147  90.12259795 115.48049953\n",
      " 114.41810025 122.70990016 121.77320023 165.25560161  92.74269944\n",
      " 135.76910142 121.3342993  120.81710053 104.66020016 141.78500295\n",
      " 121.31909924 116.6760005  113.54880056 127.01879753 122.75029938\n",
      " 125.73829969 121.20160033  86.81699888 132.32420104 145.61610165\n",
      "  92.73489953 159.85219967 158.49250207 126.23429945 164.1795996\n",
      " 108.62909931 110.00380081 103.70909817  94.36400062 127.41060257\n",
      " 106.9860005  162.43490017 121.49120029 131.98040117 130.67610171\n",
      " 160.75549924  90.12689793 175.61360159 127.40870043 126.83159867\n",
      "  86.37459889 124.52739987 149.93779734  89.65369985 107.03170005\n",
      " 109.01149984  84.52289879 135.89110097 155.1844026  139.06430378\n",
      "  73.51950045 152.80820163 126.07510021 126.70760042 127.48349884\n",
      " 108.62809973 156.32239999 114.57710138 116.92020135 125.34749951\n",
      " 154.16880113 121.38059997 156.41879899  92.97080076 125.50310141\n",
      " 125.79630018  87.5994005   92.11839913 126.33899924 127.96200295\n",
      " 113.33430086 117.85669769 121.04399996 127.11829807 119.77270106\n",
      " 135.57990085  94.30109954 119.69700029 113.02620089  94.51859976\n",
      " 108.72629956  87.26319895 109.26489936  89.5134      92.28940046\n",
      " 131.52620287 162.27930014  89.29170037 119.59070069 133.42120195\n",
      " 123.84030053 128.34650204 102.11439883  88.99989843 131.54720048\n",
      " 120.28260033 108.70689978 168.8319011  115.24180051  86.62049892\n",
      " 118.98080064  91.10329968 161.80220019 116.15290044 121.55070011\n",
      " 160.41289778 119.94979954 112.83509931 108.45059864 126.75620003\n",
      "  76.25150014 102.93899962 127.57700268 121.90379932  92.47070003\n",
      " 132.17080082 118.1307009  115.94669977 154.44290294 160.09750075\n",
      " 109.99709917 152.25959787 119.30730112 160.75410162 118.4739005\n",
      " 157.94039941 115.08329934 116.36070025 148.79259952 114.7348008\n",
      " 125.79369858 165.88769913 117.6129001  125.07809945 153.3002036\n",
      " 153.47230266 132.15839996 114.8707006  121.17270218 125.12320096\n",
      "  89.63780047 122.861      154.5685016  111.63640043 106.65329991\n",
      " 162.0718012  118.62289957 165.61759947 133.86620073 114.97749977\n",
      " 152.9313989  168.71060029 114.56890016 114.09270129 158.04069994\n",
      "  85.459599   127.04170052 127.90390064 129.02560045 124.19100049\n",
      " 124.04920081  90.69040049 153.06300062  97.27599985 137.26480029\n",
      "  89.08399896 106.92480014 115.12680065 112.5201008  124.04669936\n",
      "  91.48859867 125.54110121 162.34479874 119.89069879 165.12240183\n",
      " 126.74449846 112.21570031 127.56179889  94.89679901  90.85169978\n",
      " 103.16149919 120.90570004  83.37079914 126.2081999  159.91860394\n",
      " 117.2798012  118.33129993 119.68039977 122.86959947 120.05160122\n",
      " 121.53060039 118.02530084 107.00849985 148.09789939 126.32909872\n",
      " 115.81560088  73.85820031 127.86080137 154.74360101 121.92729997\n",
      " 125.5810003   88.74740014 103.35309898 124.56860032 120.37230045\n",
      "  73.3645008  151.93139949 121.26210025 104.82470027  86.38989792\n",
      " 114.91489886 172.196599   120.13440023 159.33069738 113.21399939\n",
      " 121.20980053 118.61560132  95.99169981 118.74130026 125.79360031\n",
      " 118.60289965  96.17090083 154.01650168 122.07110018 147.92439941\n",
      " 159.21100243 113.74490023 122.56939921 149.24059838 127.29889995\n",
      " 165.84650028 134.71760053 120.1704996  167.05069909 108.31719918\n",
      " 121.72059886 138.29900073 106.81869902]\n"
     ]
    }
   ],
   "source": [
    "print(test_data_prediction)"
   ]
  },
  {
   "cell_type": "code",
   "execution_count": 20,
   "id": "ecbcecdb",
   "metadata": {},
   "outputs": [
    {
     "name": "stdout",
     "output_type": "stream",
     "text": [
      "R squared error :  0.9895623627721375\n"
     ]
    }
   ],
   "source": [
    "#R SQUARED ERROR\n",
    "error_score = metrics.r2_score(Y_test, test_data_prediction)\n",
    "print(\"R squared error : \", error_score)"
   ]
  },
  {
   "cell_type": "code",
   "execution_count": 21,
   "id": "68491e2c",
   "metadata": {},
   "outputs": [],
   "source": [
    "#COMPARE THE ACTUAL VALUES AND PREDICTED VALUES IN A PLOT\n",
    "Y_test = list(Y_test)"
   ]
  },
  {
   "cell_type": "code",
   "execution_count": 22,
   "id": "4e84ddbb",
   "metadata": {},
   "outputs": [
    {
     "data": {
      "image/png": "[encoded data removed]",
      "text/plain": [
       "<Figure size 432x288 with 1 Axes>"
      ]
     },
     "metadata": {
      "needs_background": "light"
     },
     "output_type": "display_data"
    }
   ],
   "source": [
    "plt.plot(Y_test, color='blue', label = 'Actual Value')\n",
    "plt.plot(test_data_prediction, color='green', label='Predicted Value')\n",
    "plt.title('Actual Price vs Predicted Price')\n",
    "plt.xlabel('Number of values')\n",
    "plt.ylabel('GLD Price')\n",
    "plt.legend()\n",
    "plt.show()"
   ]
  },
  {
   "cell_type": "code",
   "execution_count": 23,
   "id": "db1d3ac1",
   "metadata": {},
   "outputs": [
    {
     "data": {
      "image/png": "[encoded data removed]",
      "text/plain": [
       "<Figure size 432x288 with 1 Axes>"
      ]
     },
     "metadata": {
      "needs_background": "light"
     },
     "output_type": "display_data"
    }
   ],
   "source": [
    "plt.plot(Y_test, color='blue', label = 'Actual Value')\n",
    "#plt.plot(test_data_prediction, color='green', label='Predicted Value')\n",
    "plt.title('Actual Price vs Predicted Price')\n",
    "plt.xlabel('Number of values')\n",
    "plt.ylabel('GLD Price')\n",
    "plt.legend()\n",
    "plt.show()"
   ]
  },
  {
   "cell_type": "code",
   "execution_count": null,
   "id": "5a1fe346",
   "metadata": {},
   "outputs": [],
   "source": []
  }
 ],
 "metadata": {
  "kernelspec": {
   "display_name": "Python 3",
   "language": "python",
   "name": "python3"
  },
  "language_info": {
   "codemirror_mode": {
    "name": "ipython",
    "version": 3
   },
   "file_extension": ".py",
   "mimetype": "text/x-python",
   "name": "python",
   "nbconvert_exporter": "python",
   "pygments_lexer": "ipython3",
   "version": "3.8.8"
  }
 },
 "nbformat": 4,
 "nbformat_minor": 5
}
